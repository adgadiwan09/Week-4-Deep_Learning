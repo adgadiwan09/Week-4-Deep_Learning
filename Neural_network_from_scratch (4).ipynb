{
  "nbformat": 4,
  "nbformat_minor": 0,
  "metadata": {
    "colab": {
      "name": "Neural network from scratch.ipynb",
      "provenance": [],
      "collapsed_sections": []
    },
    "kernelspec": {
      "name": "python3",
      "display_name": "Python 3"
    }
  },
  "cells": [
    {
      "cell_type": "markdown",
      "metadata": {
        "id": "XIOv9T-h0r3c",
        "colab_type": "text"
      },
      "source": [
        "We have created a neuron network from scratch. "
      ]
    },
    {
      "cell_type": "code",
      "metadata": {
        "id": "YTpkZuyu4-vt",
        "colab_type": "code",
        "colab": {}
      },
      "source": [
        "import numpy as np"
      ],
      "execution_count": null,
      "outputs": []
    },
    {
      "cell_type": "code",
      "metadata": {
        "id": "mGq4Exqi_QhH",
        "colab_type": "code",
        "colab": {}
      },
      "source": [
        "#sigmoid fuction\n",
        "def sigmoid(x):\n",
        "  return 1/(1+np.exp(-x))"
      ],
      "execution_count": null,
      "outputs": []
    },
    {
      "cell_type": "code",
      "metadata": {
        "id": "WdDq07XQ_x6v",
        "colab_type": "code",
        "colab": {
          "base_uri": "https://localhost:8080/",
          "height": 35
        },
        "outputId": "f4d5fcc8-f7a2-4e7d-d3e9-0b988f094f9f"
      },
      "source": [
        "sigmoid(3)"
      ],
      "execution_count": null,
      "outputs": [
        {
          "output_type": "execute_result",
          "data": {
            "text/plain": [
              "0.9525741268224334"
            ]
          },
          "metadata": {
            "tags": []
          },
          "execution_count": 8
        }
      ]
    },
    {
      "cell_type": "code",
      "metadata": {
        "id": "nHDAXBpSlzNF",
        "colab_type": "code",
        "colab": {
          "base_uri": "https://localhost:8080/",
          "height": 265
        },
        "outputId": "dc70ac91-d9b8-4eb1-8c74-eae884ecda95"
      },
      "source": [
        "#visualizing sigmoid\n",
        "x=np.linspace(-10,10,200)\n",
        "y=sigmoid(x)\n",
        "import matplotlib.pyplot as plt\n",
        "plt.plot(x,y)\n",
        "plt.show()"
      ],
      "execution_count": null,
      "outputs": [
        {
          "output_type": "display_data",
          "data": {
            "image/png": "[encoded data removed]",
            "text/plain": [
              "<Figure size 432x288 with 1 Axes>"
            ]
          },
          "metadata": {
            "tags": [],
            "needs_background": "light"
          }
        }
      ]
    },
    {
      "cell_type": "code",
      "metadata": {
        "id": "gG2yqSpJ_1hk",
        "colab_type": "code",
        "colab": {
          "base_uri": "https://localhost:8080/",
          "height": 90
        },
        "outputId": "d133ce4f-244f-441f-e5d1-3d03050c3a32"
      },
      "source": [
        "training_input= np.array([[0,0,1],[1,1,1],[0,1,0],[1,0,0]])\n",
        "training_input"
      ],
      "execution_count": null,
      "outputs": [
        {
          "output_type": "execute_result",
          "data": {
            "text/plain": [
              "array([[0, 0, 1],\n",
              "       [1, 1, 1],\n",
              "       [0, 1, 0],\n",
              "       [1, 0, 0]])"
            ]
          },
          "metadata": {
            "tags": []
          },
          "execution_count": 14
        }
      ]
    },
    {
      "cell_type": "code",
      "metadata": {
        "id": "7Q0AY_0-An4n",
        "colab_type": "code",
        "colab": {
          "base_uri": "https://localhost:8080/",
          "height": 90
        },
        "outputId": "2e212246-a4b7-432c-d55a-f561d798f2c8"
      },
      "source": [
        "training_output= np.array([[0],[1],[0],[1]])\n",
        "training_output"
      ],
      "execution_count": null,
      "outputs": [
        {
          "output_type": "execute_result",
          "data": {
            "text/plain": [
              "array([[0],\n",
              "       [1],\n",
              "       [0],\n",
              "       [1]])"
            ]
          },
          "metadata": {
            "tags": []
          },
          "execution_count": 15
        }
      ]
    },
    {
      "cell_type": "code",
      "metadata": {
        "id": "RkIoJgyCBHbE",
        "colab_type": "code",
        "colab": {
          "base_uri": "https://localhost:8080/",
          "height": 72
        },
        "outputId": "d2bf5dba-15cf-4d69-82a8-2e851552bdda"
      },
      "source": [
        "np.random.seed(10) #seed matches our output with others\n",
        "weights= 2*np.random.random((3,1))-1\n",
        "weights"
      ],
      "execution_count": null,
      "outputs": [
        {
          "output_type": "execute_result",
          "data": {
            "text/plain": [
              "array([[ 0.54264129],\n",
              "       [-0.9584961 ],\n",
              "       [ 0.26729647]])"
            ]
          },
          "metadata": {
            "tags": []
          },
          "execution_count": 34
        }
      ]
    },
    {
      "cell_type": "code",
      "metadata": {
        "id": "ZyrnihlfCLeG",
        "colab_type": "code",
        "colab": {
          "base_uri": "https://localhost:8080/",
          "height": 90
        },
        "outputId": "f8796db1-fc6a-4c62-b4c7-ea39deb10b6a"
      },
      "source": [
        "a = np.dot(training_input,weights)\n",
        "op= sigmoid(a)\n",
        "op"
      ],
      "execution_count": null,
      "outputs": [
        {
          "output_type": "execute_result",
          "data": {
            "text/plain": [
              "array([[0.56642907],\n",
              "       [0.46292857],\n",
              "       [0.2771794 ],\n",
              "       [0.63242663]])"
            ]
          },
          "metadata": {
            "tags": []
          },
          "execution_count": 35
        }
      ]
    },
    {
      "cell_type": "code",
      "metadata": {
        "id": "oevSEWexfRaz",
        "colab_type": "code",
        "colab": {
          "base_uri": "https://localhost:8080/",
          "height": 90
        },
        "outputId": "f18f61cd-91d7-475b-a0ee-be23a7f5f7ab"
      },
      "source": [
        "op.round()"
      ],
      "execution_count": null,
      "outputs": [
        {
          "output_type": "execute_result",
          "data": {
            "text/plain": [
              "array([[1.],\n",
              "       [0.],\n",
              "       [0.],\n",
              "       [1.]])"
            ]
          },
          "metadata": {
            "tags": []
          },
          "execution_count": 36
        }
      ]
    },
    {
      "cell_type": "code",
      "metadata": {
        "id": "_KhSuRmwC9Vg",
        "colab_type": "code",
        "colab": {}
      },
      "source": [
        "def gradient(x):\n",
        "  return x* (1-x)"
      ],
      "execution_count": null,
      "outputs": []
    },
    {
      "cell_type": "code",
      "metadata": {
        "id": "iTEjYBR5Hpcm",
        "colab_type": "code",
        "colab": {}
      },
      "source": [
        "for i in range(500):\n",
        "  input_layer= training_input\n",
        "  a= np.dot(input_layer,weights)\n",
        "  op= sigmoid(a)\n",
        "  error= training_output -op\n",
        "  adjustments= error* gradient(op)\n",
        "  weights= weights+ np.dot(input_layer.T,adjustments)\n",
        "   "
      ],
      "execution_count": null,
      "outputs": []
    },
    {
      "cell_type": "code",
      "metadata": {
        "id": "P8MRq-QmHve3",
        "colab_type": "code",
        "colab": {
          "base_uri": "https://localhost:8080/",
          "height": 90
        },
        "outputId": "0b01a1c7-2a74-4290-96bd-4d85900af2e6"
      },
      "source": [
        "op"
      ],
      "execution_count": null,
      "outputs": [
        {
          "output_type": "execute_result",
          "data": {
            "text/plain": [
              "array([[0.07122064],\n",
              "       [0.93869243],\n",
              "       [0.07122027],\n",
              "       [0.99961611]])"
            ]
          },
          "metadata": {
            "tags": []
          },
          "execution_count": 39
        }
      ]
    },
    {
      "cell_type": "code",
      "metadata": {
        "id": "cy65JpIkbmKW",
        "colab_type": "code",
        "colab": {
          "base_uri": "https://localhost:8080/",
          "height": 90
        },
        "outputId": "43a5054a-f937-4e4e-e5c2-efe6974aea7f"
      },
      "source": [
        "op.round()"
      ],
      "execution_count": null,
      "outputs": [
        {
          "output_type": "execute_result",
          "data": {
            "text/plain": [
              "array([[0.],\n",
              "       [1.],\n",
              "       [0.],\n",
              "       [1.]])"
            ]
          },
          "metadata": {
            "tags": []
          },
          "execution_count": 40
        }
      ]
    },
    {
      "cell_type": "code",
      "metadata": {
        "id": "jDdAXcj7gTp3",
        "colab_type": "code",
        "colab": {
          "base_uri": "https://localhost:8080/",
          "height": 90
        },
        "outputId": "2c490e08-9028-4341-948e-9895cdc445f4"
      },
      "source": [
        "training_output"
      ],
      "execution_count": null,
      "outputs": [
        {
          "output_type": "execute_result",
          "data": {
            "text/plain": [
              "array([[0],\n",
              "       [1],\n",
              "       [0],\n",
              "       [1]])"
            ]
          },
          "metadata": {
            "tags": []
          },
          "execution_count": 41
        }
      ]
    },
    {
      "cell_type": "code",
      "metadata": {
        "id": "iuLpWzf2WKzd",
        "colab_type": "code",
        "colab": {}
      },
      "source": [
        ""
      ],
      "execution_count": null,
      "outputs": []
    }
  ]
}